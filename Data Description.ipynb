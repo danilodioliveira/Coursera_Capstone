{
 "cells": [
  {
   "cell_type": "markdown",
   "metadata": {},
   "source": [
    "# Data Description"
   ]
  },
  {
   "cell_type": "markdown",
   "metadata": {},
   "source": [
    "### For this analisis the Forsquare API was responsible to provide the data about the neighbourhoods in the city of Toroton, ON, Canda. The data contains informations about all kind of business and places such as Coffee Shop, Clothing Store, Yoga Studio, Japanese Restaurant, Mexican Restaurant, Gym, Cocktail Bar, Jazz Club, among other things, in each neighbourhood."
   ]
  },
  {
   "cell_type": "markdown",
   "metadata": {},
   "source": [
    "# Methodology"
   ]
  },
  {
   "cell_type": "markdown",
   "metadata": {},
   "source": [
    "### A technique called WebScraping was used to get the data from the Wikipedia website, getting all the information availible on Toronto´s neighbourhoods. Then a Machine Learning algorithm called \"Clustering\" was  used to cluster and segment those neighbourhoods, this will help to find the best business oportunity in each one of them."
   ]
  },
  {
   "cell_type": "code",
   "execution_count": null,
   "metadata": {},
   "outputs": [],
   "source": []
  }
 ],
 "metadata": {
  "kernelspec": {
   "display_name": "Python",
   "language": "python",
   "name": "conda-env-python-py"
  },
  "language_info": {
   "codemirror_mode": {
    "name": "ipython",
    "version": 3
   },
   "file_extension": ".py",
   "mimetype": "text/x-python",
   "name": "python",
   "nbconvert_exporter": "python",
   "pygments_lexer": "ipython3",
   "version": "3.6.11"
  }
 },
 "nbformat": 4,
 "nbformat_minor": 4
}
